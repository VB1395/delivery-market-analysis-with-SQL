{
 "cells": [
  {
   "cell_type": "code",
   "execution_count": 27,
   "metadata": {},
   "outputs": [],
   "source": [
    "cursor.close()"
   ]
  },
  {
   "cell_type": "code",
   "execution_count": 74,
   "metadata": {},
   "outputs": [
    {
     "name": "stdout",
     "output_type": "stream",
     "text": [
      "[('Sint-Stefaanskerk',), ('Building Z, NCIA',), ('Sint-Catharina en Sint-Corneliuskerk',), ('0',), ('Sint-Amanduskerk',), ('Onze-Lieve-Vrouw van de Rozenkranskerk',), ('Sint-Martinuskerk',), ('Sint-Annakerk',), ('Heilige Simon en Judas-Thaddeuskerk',), ('Regenboogkerk',), ('Moederhuis van de zusters der Kindsheid Jesus',), ('Sint-Lievenskerk',), ('Sint-Coletakerk',), ('Sint-Pauluskerk',), ('Kapel Sint-Jozef',), ('Sint-Salvatorkerk',), ('Sint-Eligiuskerk',), ('Klooster van de arme klaren-coletinnen',), ('LUCA campus Sint-Lucas Architectuur',), ('Ziekenhuis Toevlucht van Maria Middelares',), ('Onze-Lieve-Vrouw Sint-Pieterskerk',), (\"St Stephen's Church\",), ('Nieuwen Bosch',), ('Leeuwenhok',), ('Christus Koningkerk',), ('Clemenspoort',), ('Onze-Lieve-Vrouw ter Hoyekerk',), ('Sint-Franciscusinstituut',), ('Stadsmuseum Gent',), ('Baudelokapel',), ('Sint-Barbaracollege',), ('Kapel Sint-Antonius van Padua',), ('Kerk Paters Karmelieten',), ('Sint-Godelievekapel',), ('Sint-Pieters-buitenkerk',), ('Heilig Hartkerk',), (\"Saint James' Church\",), ('Saint Bavo Cathedral',), (\"Saint Nicholas' Church\",), (\"Saint Michael's Church\",), ('Begijnhofkerk Sint-Elisabeth',), ('Sint-Machariuskerk',), ('Sint-Amanduskapel',), ('Sint-Jacobskerk',), ('Sint-Catharinakerk',), ('Sint-Jan-de-Doperkerk Oosterweel',), ('Zusters Karmelietessen',), ('Sint-Carolus Borromeuskerk',), ('Basiliek van het Heilig Hart',), ('Kapucijnenklooster',), ('Sint-Joriskerk',), ('Sint-Petruskapel',), ('Sint-Annakapel',), ('Sint-Hubertuskerk',), ('Sint-Lambertuskerk',), ('Protestants Evangelische kerk',), ('Sint-Laurentiuskerk',), ('Sint-Antoniuskerk',), ('Sint-Dominicuskerk',), ('Sint-Lucaskerk',), ('Sint-Janskerk',), ('Heilige Familie en Sint-Corneliuskerk',), ('Sint-Willibrorduskerk',), ('Klooster en kapel van de zusters Franciscanessen',), ('Sint-Norbertuskerk',), ('Onze-Lieve-Vrouw-ter-Sneeuwkerk',), ('Kapel van het Allerheiligste Sacrament',), ('Cathedral of Our Lady',), ('Sint-Andrieskerk',), ('Sint-Anna-ten-DrieÃ«nkerk',), ('Heilig-Hartkerk',), ('Heilige Geestkerk',), ('Sint-Walburgiskerk',), ('Sint Michielskerk',), ('Sancta Maria Kapel',), ('Sint-Jan De Doperkerk',), ('Sint-Kwintenskerk',), ('VBS Ter Bank Egenhoven',), ('Onbevlekt Hart van Mariakerk',), ('Campus Arenberg I',), ('Zwartzustersklooster',), ('Sint-Franciscuskerk',), ('KADOC',), ('Sint-Pieterskerk',), ('Residentie Lerkeveld',), ('Sint-Michielskerk',), ('Sint-Antoniuskapel',), ('Onze-Lieve-Vrouw van de Rozenkranskapel',), ('Amerikaans College',), ('Sint-Jozefskerk',), ('Filosofenfontein',), ('Abdijkerk Sint-Jan Evangelist',), ('Sint-Antonius van Paduakerk',), ('Onze-Lieve-Vrouw-van-Troostkerk',), ('Sint-Lodewijkskerk',), ('Pius X-kerk',), ('H.Damiaankerk',), ('WZC Sint-Anna',), ('Medisch Instituut Sint-Augustinus',), ('Sint-Theresia',), ('Heilige Drievuldigheidskerk',), ('Sint-Jan Berchmans',), ('Xaveriuskerk',), ('De Verrezen Heer',), ('Sint-Fredeganduskerk',), ('Onze-Lieve-Vrouw van het Heilig Hartkerk',), ('Sint-Rochuskerk',), ('Heilig-Sacramentskerk',), ('Onze-Lieve-Vrouwekerk',), ('Onze-Lieve-Vrouw van Troostbasiliek',), ('Sint-Corneliuskerk',), ('Heilig Hart',), ('Sint Gertrudiskerk',), ('Allerheiligste Verlosserkerk',), ('Sint-Gorikskerk',), ('St. Amanduskerk (Ten Bos)',), ('Onze-Lieve-Vrouw-Hemelvaartkerk',), ('Onze-Lieve-Vrouw Hemelvaartkerk',), ('Sint-Jan Evangelistkerk',), ('Sint-Jozefkerk',), ('Sint-Pauluszaal- en kerk',), (\"Stedelijk Museum 't Gasthuys\",), ('WZC Denderrust',), ('Onze-Lieve-Vrouw van Meuleschettekapel',), ('Kapel OLV Van Bijstand',), ('St Jobkapel',), ('Onze-Lieve-Vrouw van Bijstandkerk',), ('Kapel Onze-Lieve-Vrouw Termuren',), ('ten Beeldeken',), ('Sint-Bavokerk',), ('Sint-Pieters-Bandenkerk',), ('Werfkapel Onze-Lieve-Vrouw Ter Druiven',), ('Onze-Lieve-Vrouw van Altijddurende Bijstandkerk',), ('Sint-Rumolduskerk',), ('Heilige Sacramentskerk',), ('Blijde-Boodschapkerk',), ('Sint-Bartholomeuskerk',), ('Sint-Niklaaskerk',), ('Jan Ruusbroec en Onze-Lieve-Vrouwekerk',), ('Sint-Sebastiaankerk - Ã‰glise Saint-SÃ©bastien',), ('Engelendale',), ('St. Walburga Church',), (\"St. James's Church\",), ('Heilige Familiekerk',), ('NH Brugge',), ('Kloosterkerk van de zusters redemptoristinnen',), ('Sint-Godelieveabdij',), ('Engels Klooster Onze Lieve Vrouw van Nazareth',), ('Sint-Baafskerk',), ('Monastery of the Sisters Hospitallers of Saint John',), ('Basilica of the Holy Blood',), ('Sint-Gilliskerk',), ('O-L-V-ter-Potterie',), ('Sint-Godelieve',), ('Klooster van Ongeschoeide Karmelieten',), ('Technisch Instituut Heilige Familie',), ('Spermalie - Internaat De Veste',), (\"Saint Salvator's Cathedral\",), ('Church of Our Lady',), ('Huize Minnewater',), ('Jeruzalemkerk',), ('Onze-Lieve-Vrouw-van-Blindekenskapel',), ('Sint-Leocollege',), ('Heilige-Kruisverheffing-en-Sint-Jozefkerk',), ('Sint-Jozefsinstituut',), ('Sint-Magdalena en Sint-Catharinakerk',), ('Academie: Bogardenkapel',), ('Psychiatrisch Ziekenhuis Onze-Lieve-Vrouw',), ('Kapel van de Horst',), ('Onze-Lieve-Vrouw, Koningin van Alle Heiligenkerk',), ('Sint-Jozefkapel',), ('Onze-Lieve-Vrouw-Onbevlekt-Ontvangenkerk',), ('Sint-Theresia van het Kind Jezus',), ('Onze-Lieve-Vrouw Onbevlekt Ontvangen',), ('Goddelijk Kind Jezuskerk',), ('Zorgcentrum Sint-Lodewijk',), ('Sint Vincentschool',), ('Onze-Lieve-Vrouw van Lourdeskerk',), ('Onze-Lieve-Vrouw van Smartenkerk',), ('Onze-Lieve-Vrouw van Fatimakerk',), ('Sint-Jacobuskerk',), ('Sint-Filippuskerk',), ('Sint-Cordulakerk',), ('Westtoren van de voormalige Sint-Lambertuskerk',), ('Sint-Engelbertus en Bernarduskerk',), ('Sint-Pieterkerk',), ('Onze-Lieve-Vrouw van Goede Bijstandkerk',), ('Sint-Antonius Abtkerk',), ('Sint-Clemenskerk',), ('Onze-Lieve-Vrouwkerk',), ('Sint-Hilariuskerk',), ('Kerk Onbevlekt Hart van Maria',), ('Sint-Theresia van het Kind Jezuskerk',), ('Verrijzeniskerk',), ('Kapel De Ark',), ('Heilige hartkapel',), ('Heilige Familie Basis en Secundair',), ('Don Boscokerk',), ('O.L.V van de Eekhoek',), ('Onze Lieve Vrouw van Hal',), ('Paterskerk',), ('Onze-Lieve-Vrouw-ten-Boskerk',), ('Sint-Jan de Doper',), ('koetshuis',), ('Sint-Nicolaaskerk',), ('Wijkkerk Pastoor Van Ars',), ('Sint-Andreas en Ghislenuskerk',), ('Collegekerk',), ('Ouderenzorg Zusters Jozefienen VZW',), ('Sint-Quintinuskerk',), ('AZ Zeno campus Knokke-Heist',), ('Onbevlekt Hart van Maria- en Margaretakerk',), ('Sint-Pietersbandenkerk',), ('Sint-Leo de Grotekerk',), ('Kristus-Koningkapel',), ('Stella Mariskapel',), ('Sint-Antonius-Abtkerk',), ('Sint-Donaaskerk',), ('Sint-Vincentiuskerk',), ('Villa Karmel',), ('Sint-Janskapel',), ('Sint-Petrus en Pauluskerk',), ('Onze-Lieve-Vrouw-Ten-Hemel-Opgenomenkapel',), ('Zevenbergen',), ('Basisschool Sint Johanna',), ('Sint-Pancratiuskerk',), ('Sint-Jan-in-de-Oliekerk',), ('Begijnhofkerk Sint-Alexius en Catharina',), ('De Goede Herder',), ('Onze-Lieve-Vrouw-van-LeliÃ«ndaalkerk',), ('Sint-Jakob',), ('Onze-Lieve-Vrouw-over-de-Dijlekerk',), ('Sint-Pieter-en-Paulkerk',), ('GVBS Don Bosco',), (\"St. Rumbold's Cathedral\",), ('Sint-Jan Berchmanskerk',), ('Vzw Borgerstein',), ('Sint-Katelijnekerk',), ('Sint-Jozef-Colomakerk',), ('Sint Libertuskerk',), ('Onze-Lieve-Vrouw-van Hanswijkbasiliek',), ('Sint-Elisabethkerk',), ('Blaisantkerk',), ('Cultuurkapel Sint-Vincent',), ('Psychiatrisch Ziekenhuis Sint-Jan de Deo',), ('Sint-Jan-Baptistkerk',), ('Sint-Leonarduskerk',), ('Heilige Naam Jezuskerk',), ('Onze-Lieve-Vrouw van Smartenkapel',), ('Heilige-Geestkerk',), ('Onze-Lieve-Vrouw-Boodschapkerk',), ('Evangelische Christengemeente Zwartberg',), ('Italiaanse kerk',), ('OekraÃ¯ens-Katholieke kerk',), ('Onze-Lieve-Vrouw-van-Banneuxkerk',), ('Sint-Aldegondiskerk',), ('Sint-Barbarakerk',), ('Onze-Lieve-Vrouw der Kempenkerk',), ('Sint-Eventius',), ('Sint-Albertuskerk',), ('Sint-Theresiakerk',), ('Huize Montfort - klooster',), ('Sint-Jozef Werkmankerk',), ('Sint-Engelbertuskapel',), ('Sint-Jan-Evangelistkerk',), ('Heilig-Kruiskerk',), ('Sint Bernadette',), ('Sint-Jan Maria Vianneykerk',), ('Onze-Lieve-Vrouw Middelares en Sint-Lodewijk',), ('Sint-Benedictuskerk',), ('Onze-Lieve-Vrouw Koninginkerk',), ('Kapel',), ('Sint-Petrus-en-Pauluskerk',), ('Sint-Pieterstoren',), ('Sint-Jan Baptistkerk',), ('Kapucijnenkerk',), ('Onze-Lieve-Vrouw Oorzaak onzer Blijdschapkerk - Ã‰glise Notre Dame Cause de Notre Joie',), ('Sint-Elisabeth van Hongarijekerk',), ('Sint-Genesiuskerk',), ('The Link',), ('Passionistenklooster van Sint-Michael en Sint-Jozef',), ('Sint-Judocuskerk',), ('Sint-Katharinakerk',), ('Heilig Hartcollege',), ('Sint-Maria Magdalenakerk',), ('Sint-Eutropiuskerk',), ('Damiaankerk',), ('Sint-Audomarus',), ('Guldensporencollege, campus Kaai',), ('Pius X',), ('Sint-Rita',), ('Sint-Maartenskerk',), ('Mariadorp',), ('Onze-Lieve-Vrouw ten Spieghele',), ('Sint-Godelievekerk',), ('klooster OLV Fatima',), ('Sint-Elooiskerk',), ('Onze-Lieve-Vrouw en Sint-Rochuskerk',), ('Maria Moeder van de Kerk',), ('Sint-Jan Baptist de la Sallekerk',), ('Onze-Lieve-Vrouw-van-Lourdesbasiliek',), ('Sint-Bernadettekerk',), ('Zorgcentrum Heiveld',), ('Basisschool Pius X',), ('Sint-Theresia van Avillakerk',), ('Heilig Kruiskerk',), ('Psychiatrisch Centrum Dr. Guislain',), ('Maaltebruggekasteel',), ('Sint-Jan de Doperkerk',), ('Sint-Godelieve kerk',), ('Putkapel',), ('Don Bosco Kapel (Maria Hulp van de Christenen)',), ('Oostakker Basilica',), ('Sint-Denijskerk',), ('Maria Assumptakerk',), ('Sint-Katarinakerk',), ('Sint-Jozef en Sint-Kristoffelkerk',), ('Sint-Veronuskerk',), ('Sint-Amandus en Sint-Blasiuskerk',), ('Sint-Hubertuskapel',), ('Onze-Lieve-Vrouw ten Dalekapel',)]\n",
      "                                   CITY\n",
      "0                     Sint-Stefaanskerk\n",
      "1                      Building Z, NCIA\n",
      "2  Sint-Catharina en Sint-Corneliuskerk\n",
      "3                                     0\n",
      "4                      Sint-Amanduskerk\n"
     ]
    }
   ],
   "source": [
    "import sqlite3\n",
    "import pandas as pd\n",
    "\n",
    "query_4_d = \"\"\"\n",
    "    SELECT\n",
    "        DISTINCT(locations.name)\n",
    "    FROM\n",
    "        locations\n",
    "        JOIN locations ON locations.id = locations_to_restaurants.location_id\n",
    "        JOIN restaurants ON locations_to_restaurants.restaurant_id = restaurants.id\n",
    "        JOIN menu_items ON restaurants.id = menu_items.restaurant_id\n",
    "    WHERE\n",
    "        menu_items.name LIKE 'kapsalon';\n",
    "\"\"\"\n",
    "\n",
    "query_4_take = \"\"\"\n",
    "    SELECT\n",
    "        DISTINCT(locations.city)\n",
    "    FROM\n",
    "        locations\n",
    "        JOIN locations_to_restaurants ON locations.ID = locations_to_restaurants.location_id\n",
    "        JOIN restaurants ON locations_to_restaurants.restaurant_id = restaurants.primarySlug\n",
    "        JOIN menuItems ON restaurants.primarySlug = menuItems.primarySlug\n",
    "    WHERE\n",
    "        menuItems.name LIKE 'Kapsalon';\n",
    "\"\"\"\n",
    "\n",
    "query_4_uber = \"\"\"\n",
    "    SELECT\n",
    "        DISTINCT(locations.name)\n",
    "    FROM\n",
    "        locations\n",
    "        JOIN locations_to_restaurants ON locations.id = locations_to_restaurants.location_id\n",
    "        JOIN restaurants ON locations_to_restaurants.restaurant_id = restaurants.id\n",
    "        JOIN menu_items ON restaurants.id = menu_items.restaurant_id\n",
    "    WHERE\n",
    "        menu_items.name LIKE 'Kapsalon';\n",
    "\"\"\"\n",
    "\n",
    "query_4_test = \"\"\"\n",
    "    SELECT\n",
    "        name\n",
    "    FROM\n",
    "        restaurants\n",
    "    WHERE\n",
    "        ratings > 4;\n",
    "\"\"\"\n",
    "\n",
    "connection = sqlite3.connect(r\"databases\\ubereats.db\")\n",
    "cursor = connection.cursor()\n",
    "\n",
    "cursor.execute(query_4_uber)\n",
    "results = cursor.fetchall()\n",
    "print(results)\n",
    "columns = [\"CITY\"]\n",
    "data = pd.DataFrame(results, columns = columns)\n",
    "\n",
    "print(data.head(5))\n",
    "\n",
    "cursor.close()\n"
   ]
  }
 ],
 "metadata": {
  "kernelspec": {
   "display_name": ".venv",
   "language": "python",
   "name": "python3"
  },
  "language_info": {
   "codemirror_mode": {
    "name": "ipython",
    "version": 3
   },
   "file_extension": ".py",
   "mimetype": "text/x-python",
   "name": "python",
   "nbconvert_exporter": "python",
   "pygments_lexer": "ipython3",
   "version": "3.12.6"
  }
 },
 "nbformat": 4,
 "nbformat_minor": 2
}
