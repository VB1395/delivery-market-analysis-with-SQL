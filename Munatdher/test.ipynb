{
 "cells": [
  {
   "cell_type": "code",
   "execution_count": 64,
   "metadata": {},
   "outputs": [],
   "source": [
    "import sqlite3"
   ]
  },
  {
   "cell_type": "code",
   "execution_count": 65,
   "metadata": {},
   "outputs": [],
   "source": [
    "#path to SQLite data base \n",
    "\n",
    "db_path =r\"..\\databases\\deliveroo.db\""
   ]
  },
  {
   "cell_type": "code",
   "execution_count": 66,
   "metadata": {},
   "outputs": [],
   "source": [
    "#Connect to the SQLite  data base \n",
    "connection = sqlite3.connect(db_path)"
   ]
  },
  {
   "cell_type": "code",
   "execution_count": 67,
   "metadata": {},
   "outputs": [],
   "source": [
    "#Creat a cursor object \n",
    "\n",
    "cursor = connection.cursor()"
   ]
  },
  {
   "cell_type": "code",
   "execution_count": 69,
   "metadata": {},
   "outputs": [
    {
     "name": "stdout",
     "output_type": "stream",
     "text": [
      "[('Meli Mêly',), ('Guignol',), ('Thai Smile',), ('Burgerij Eilandje',), ('Bar Buenos Aires - Empanadas',), ('Bia Mara',), ('Balls & Glory ',), ('De Bomma',), ('Le Max',), ('Otomat MAS',), ('River Kwai',), ('🎸 Beastie Burgers ',), ('Ristorante Pizzeria Nicoletta',), ('Little BÚN - Theater',), ('Aroy Thai',), ('Mikuriya',), ('La Nuova Piazza',), ('O Beyrouth',), ('Le Zinneke',), ('Indus Pride',), ('Mint',), ('De Broers van Julienne',), ('Greenway',), ('Da Toni',), ('Nora Indian Restaurant',), ('Simply Marie',), ('Jilles Beer & Burgers - Zuid',), ('Greenway Ghent',), (\"Paul's Boutique Station 🍔\",), ('Tasty World Hoogpoort',), ('Le Botaniste',), ('Lucy Chang Gent',), ('Balls & Glory Ghent',), ('Knol & kool',), ('Souplounge',), ('Bavet Muinkkaai',), (\"L'Epicerie du Cirque\",), ('Poule & Poulette',), ('Loa Streetfood',), ('Tenshi',), ('Basic Italian',), ('Pasta Commedia',), ('Bavet Verloren Kost',), ('De Arme Duivel',), ('Villa Thai',), ('Orso Pizzeria',), ('Moochie',), ('JACK Premium Burgers - Centrum',), ('Per Bacco',), ('Del Popolo Pizza ',), ('Fruxino',), ('Bar Jan Cremer',), ('Caviste Lelièvre',), ('Destiny Asian Food',), ('Zurich',), ('Anverres',), ('Les Deux Petits Diables',), ('Sette Piatti',), ('Moochie',), (\"Kim's Kitchen\",), ('Thai Café',), (\"Win's Asian Cuisine\",), ('Sushiline',), ('Restaurant San Marco',), ('Basic Italian Londenstraat',), ('Plus+',), ('Tota Empanadas',), ('Shake Hands',), ('Bellini',), ('Delitraiteur Woluwe Georges Henri',), ('Meat and Eat',), ('Umi Sushi',), ('Brasserie Keizershof',), ('Yu-Thai',), ('Zorba de Griek',), ('De Superette',), ('Ichi Bites',), ('Caulifornication',), (\"Simone's kitchen\",), ('JusJus',), ('Tutti Atelier',), ('Yammi Yammi',), ('De Orchidee',), ('Patine',), ('Delitraiteur Woluwe - Place Saint-Lambert',), (\"O'yo\",), ('Toshi Sushi',), ('Borsalino - San Marino',), ('Bocca',), ('Krua Thai',), ('Verso Café',), ('Matterhorn',), ('Uzume Sushi',), ('LucMoon',), ('Esaki',), ('Nuova Era',), (\"❌ Sapori d'Italia Antwerpen❌\",), ('Ikura Sushi',), ('Tenshi',), ('Pasta La Vista',), ('Pasta Rigoletto',), ('Bavet',), ('Collina 2 go',), ('#Falafel',), ('Indian Restaurant Rasoi',), ('Loempialand',), ('Greenway Leuven',), ('Hoshi Hoshi',), ('Bavet Leuven',), ('Thai House',), ('Tamo',), ('Taste of Asia',), ('Balls & Glory',), (\"Croque'n Roll - Leuven\",), ('Le Pain Quotidien',), ('Basic Italian',), ('Le Pain Quotidien ',), ('Würst ',), ('Be Burger Stockel',), ('Lettuce',), ('Fonteyne the Kitchen',), ('De Appel',), ('Mémé Gusta',), ('Annapurna',), ('New Holy Cow',), ('Cremerie Germaine',), ('Stadsbrouwerij De Koninck',), ('8tea5',), ('Monkey King',), ('Camogli',), (\"Eetcafe 't Prison\",), ('Indian Royal Food',), ('Taj Mahal Leuven',), ('Capital88',), ('Le Pain Quotidien - Mechelen',), ('Moochie',), ('Neuhaus Antwerpen',), ('Neuhaus Gent',), ('Neuhaus Leuven',), ('Namaste',), (\"Julie's House Breakfast & Afternoon Tea\",), (\"Julie's House Shop\",), ('Tomi',), ('Da Giovanni',), ('Da Giovanni Eilandje',), ('Mother India',), ('The Shack',), (\"Carlito's\",), ('Lobster Pot',), ('Narai Thai',), ('Zushi',), ('Jilles Beer & Burgers ',), ('Pasta Presto',), ('Marco Polo Noodlebar',), ('Standard ',), ('Ocean Sushi',), ('Yum Yum Sushi',), ('Bocca',), ('CADIX Food ',), ('Wok Style',), ('Le Pain Quotidien - Brugge',), ('Chez Bichon',), ('Pizza Hut',), ('Pizza Hut',), ('Pizza Hut',), ('Pizza Hut',), ('Pizza Hut',), ('Thai Café',), ('Sushi Shop',), ('Be Burger ',), ('Trattoria Trium',), ('Pizza Hut',), ('Pizza Hut',), ('Dilmon',), (\"'t Hof van Rembrandt\",), ('Pizza Hut',), ('Pizza Hut',), ('Pizza Hut',), ('Sushi Palace Wilrijk',), ('Sushi Shop Woluwé',), ('Pizza Hut',), ('Pizza Hut',), ('Belchicken Overpoortstraat',), ('New Hong Kong Bruxelles',), ('Petit Paris',), ('Bavet ',), ('Pizza Fresca Woluwe',), ('Al Jannah Waterloo',), ('WASBAR Zuid',), ('Moss',), ('Chez Hassan',), ('WASBAR Korenmarkt',), ('Sakura Kortrijk',), (\"Magnum & Ben & Jerry's - Ice Cream Store\",), ('The Noodlebar',), (\"Charlie's Chips\",), ('Bouchéry',), ('Racine PAKT',), ('Pizzeria Rosticceria da Valentina',), ('Himalaya',), ('Café Pistolet',), ('Taste Of Curry',), ('Kyoto Sushi',), ('Bento by Ryoma',), ('Sushi Mama',), ('Thai Zen',), ('Unique Asia Restaurant',), ('China Keuken',), ('Den Huzaar',), ('8tea5',), ('Rotis',), ('India Palace',), ('Palmyra Leuven',), (\"Salt 'n Pepper\",), ('De Kastart',), ('Bowls',), (\"Seli's Noodlebar\",), ('Au Pain Marie',), ('Pizza Hut',), ('YouWok',), ('Frituur Hamburgerhuis `N JOY',), (\"L'Atelier\",), ('Sweet Lime',), ('Chez Hakan',), ('Poule & Poulette',), ('Kanikama Sushi',), ('The Olive Street Food - Mediterranean Greek',), ('Hello Sushi Kortrijk',), ('Bella Italia',), ('Frituur Den Boomgaard',), (\"Chi-Chi's\",), ('Bohemian Burgers Brugge',), ('Taj Mahal Antwerp',), ('Barnini',), ('Nihao Leuven',), ('Burger Folie',), ('Napoli Da Leonardo',), ('Talamini',), ('Okoz',), ('Masala Express',), (\"Paul's Boutique\",), ('Taste of India',), ('Nimmanhaemin',), ('El Bocado',), (\"That's Amore\",), ('Romeo e Giulietta',), ('Cafè Latino',), ('Mixta',), ('Otomat',), ('Ama Sushi',), ('Bar Nine',), ('Chanchal restaurant',), ('Tasty Thai Express',), ('Taco Santo',), ('De Appelier',), (\"Pepe's Taste\",), (\"'t Dagelijks Broodje\",), ('La Barchetta',), ('Pastasciutta Appel',), ('Ristorante Pizzeria La Sardegna',), ('Sushi Gourmet Chazal',), (\"Pizzeria l'Ami\",), ('Fitchen Vlaanderenstraat',), ('Sabai Thaï',), ('Nakhon Thai',), ('Otomat Brugge',), ('La Sushiria',), ('Baskuul',), ('Delforge Marcel',), ('Amine Delices',), ('Orient Kitchen Bruxelles',), ('WASBAR Graanmarkt',), ('Sushi Hungry Eye',), ('The Lab Social Club',), ('De Lange Muur',), ('🎸Beastie Burgers',), ('Frituur De Nieuwe Gentpoort',), ('Soul & Food',), ('Gitan',), ('Pizzeria Milano - Brussels',), ('Couleur Safran',), ('Manuel Kartel',), ('Taboulé',), ('Frituur Pita de Brug',), ('Midori Deli',), ('Sushi Palace',), ('Pici Zurenborg ',), ('Fitchen Korenmarkt',), ('Oliebollen & Churros DELFORGE',), ('Vincent Delforge ',), ('Muradim',), ('Frituur la patata',), ('Poule & Poulette',), ('Hawaiian Poké Bowl - Nationalestraat',), ('Patisserie Gantoise (jean busch)',), ('Sushi Leuven',), ('Ali Baba',), (\"L'Estaminet\",), ('Ceders Van Libanon',), ('Da Adriano',), ('El Sombrero',), ('Domus',), ('Iran Chicken Grill ',), ('Dim Yam Cha',), ('Mister Spaghetti Antwerpen',), ('Frituur de Witte',), ('El Warda',), (\"Epiphany's kitchen\",), ('Pizzeria La Cucina',), ('Frituur Kattekwaad',), ('Uniq Kebab',), (\"Croque'n Roll\",), ('Pasta Ruffo',), ('Aroy',), (\"Q's French Tacos\",), ('Thai Wok Express Anvers',), ('Karasu | Antwerpen',), ('Yousushi',), ('18sushi',), ('Oost-Azië',), ('Royal Tokyo Sushi Bar',), ('Boccone',), ('Panos Walpoort',), ('Bois Savanes',), ('French tacos',), ('Vers-Zuid',), ('Hector Chicken ',), ('Kap Saloon',), ('Bia Mara Leuven',), ('Wok & Walk',), ('Ichi Bao',), ('Keurslager Michielsen',), ('Tantuni',), ('JanYa Thai Wok',), ('Chee Kofte & Wraps',), ('Dal Pesce Innamorato',), ('Frites Atelier',), ('Wooly Stockel',), ('Deli de Vos & Marie',), ('pizza overpoort',), ('BasielFood',), ('Horn OK Please',), ('Aloha Poké bowl ',), (\"Scotty's New Zealand Pies - The Kiwi Traiteur\",), ('Uma marisqueira',), ('TANDOORI-PASTA',), ('Hawaiian Poké Bowl - Diestsestraat',), ('Frietlounge',), ('BBC HASSELT',), ('Mister Spaghetti Brugge',), ('Le Pain Quotidien Leuven',), ('Chamas Tacos',), ('Epicuro',), ('Bavet Hooiaard',), ('Bouff',), ('Friterie Stalle',), ('Thai Spice Chili',), (\"Emmy's eats and sweets\",), ('Planet Yoghurt - Planet Pasta',), ('Quick Sint-Kruis',), ('Amvrosia',), (\"Eethuis - Frituur 't Stad\",), ('iGusto Traiteur',), ('Coffee&Bagel',), ('Sandwich & Co',), ('Bavet',), ('Gran Gusto Ristorante',), ('Shalimar Tandoori',), ('Fabiola | Antwerp',), ('Les Tartes de Françoise - Waterloo',), ('Les Tartes de Françoise - Stockel',), ('Les Tartes de Françoise - Jette',), (\"Forno A'Legna\",), ('Les Tartes de Françoise',), ('Les Tartes de Françoise',), ('Les Tartes de Françoise',), ('Les Tartes de Françoise',), ('Layali Halab',), ('Les Tartes de Françoise',), ('Wan Kou',), ('Evita’s eethuis',), ('Bite Leuven',), ('The Ribhouse Gent',), ('La Frite de Forest',), ('Pasta Maria',), ('Quo Vadis',), ('Pizzeria La Lanterna',), ('Benvenuto',), ('Subway',), ('La Trattoria, Premium Pizza & wine',), ('Libanezza',), ('Taj Mahal',), ('Donki - Leuven',), ('Bambu Street Food',), ('Fonteyne the Kitchen',), ('Frituur Rosa - Delforge Kurt',), ('Nieuw Oriental',), ('Okipana Poké Bowl',), ('Da Mario Take Away',), ('Soeurs Sourire',), (\"Chick 'n Dip\",), ('Hotdog Factory Antwerp',), ('Basta!',), ('Breadpoint',), ('Gouden Paard',), ('Kintsugi Sushi Bar',), ('Holy Guacamoly Zuid',), ('Holy Guacamoly St. Pieters',), ('Frites Atelier',), ('Gezondigd',), ('Oats Day Long',), ('Pizza Altamira',), ('Brasserie Tuf Tuf',), ('Pane e Focaccia',), (\"Aroy's Candy Shop\",), ('La Calzoneria',), ('The Juke Joint Kitchen',), ('Bananenleef',), ('Hau Wang',), ('Belchicken',), ('Chokdee Thai',), ('Verona | Antwerp',), ('Balls & Glory Mechelen',), ('Wasbar Leuven',), ('Cropains',), ('Frituur Natuur',), ('Restaurant SUMO',), ('Meshur Adiyaman Cigkoftecisi',), ('Pizzeria Fiorine',), ('Moochie Leuven',), ('Moochie Hasselt',), ('Wabi Sabi sushi & oriental food restaurant',), ('Brasserie Agrea',), ('Bistro Pompidou',), ('Frituur Frans Hooiaard',), ('Kaiseki Antwerpen',), ('Wattman',), ('Banh Mi ',), ('Midori @ DPG Media',), ('Australian Home Made Ice Cream Melkmarkt',), ('Australian Home Made Ice Cream Keyserlei',), ('Frituur Louiss',), ('Zuru Zuru Ramen',), (\"Papa Paolo's Pizza\",), ('Frituur Dageraad',), ('Fitchen',), ('❌Wiphada Thai Food & Take Away❌',), ('The Avocado Bar Mechelen',), ('O-Thai Hasselt',), ('Angry Butchers',), ('Frituur Botermarkt',), (\"T'more Enjoy\",), ('Namaste Tandoori - Indian & Nepali Kitchen',), ('Life Bar',), ('RUBA healthy & fresh food',), ('Damasco Leuven',), ('Nepal Delight',), ('La Trattoria Italiana',), ('Bocata',), ('Joe & The Juice',), ('Jardin Asiatique',), ('MYRO',), (\"l'Artista Mechelen\",), ('La Muse de Marcel',), ('Antwerp Kebab',), ('Pizza House - Fast Food',), ('B-Cook',), ('Croissy Mechelen',), ('Great Market',), ('Chez Marraine',), ('Bocca',), ('Kebab Leuven',), (\"Carlito's Piazza\",), ('Lilicup Uccle',), ('Taste of fresh',), ('Sanseveria Bagelsalon',), ('Wok & Momo House',), ('#Kitchens ',), ('Monkey Eleven',), ('Hawaiian Poké Bowl - Mechelen',), ('Fatayer',), ('Ancho - Woluwe',), ('Sushi Palace Gent',), ('Pizza Pasta Locale',), ('Frituur Drakenhof',), ('Pita Ster Antwerpen',), ('Frituur Belgium',), ('The Swirl Bakery',), ('Ibiza BOUFF',), ('Hawaiian Poké Bowl - Kalandestraat',), ('Okipana Poké Bowl',), ('Thai Isan',), ('Eat Wings Antwerpen',), ('Pita Amon',), ('Chalex Eetcafe Brasserie',), ('Royal Frituur',), ('Five Guys Antwerpen',), ('Chicken Tok Tok',), ('Masalatop Indian Restaurant/Tandoori Masala',), ('Mister Buffet & Signore',), ('Pizzeria Number One',), ('BohoBowl',), ('Hacked by De Vegetarische Slager',), (\"GLORIA's BAKED PASTA\",), ('PURE.',), ('BERTHA',), ('THE SWEET LAB.',), ('Maza House',), ('Cookiele Antwerp Cookies',), ('Himalayan Cuisine',), ('Spirelli',), ('Foodmaker Meir',), ('Sobo',), ('Foodmaker Hasselt',), ('pita alexandria',), ('Foodbar leuven',), ('Traiteur Toulouse',), ('Grade',), ('Tontons',), ('Himschoot ',), ('Deelite Kortrijk',), ('TapaBar Antwerpen',), ('PIZZI COTTO',), ('Danieli Il Divino',), ('ACAI BAR GENT',), (\"'t Mechels Frietje\",), ('Murni Wilrijk',), ('Kalura',), ('frituur Boem patat',), (\"'t Galetje\",), ('Belchicken - Mechelen',), ('Mister Spaghetti Kortrijk',), (\"Pete's Barbecue\",), (\"Manhattn's Burgers Groenplaats\",), ('Restaurant Italien Pasta Comedia',), ('Laila Tandoori GNT',), ('Mundo Latino',), ('Hard Rock Cafe 🎸',), ('Royale Pizza Express',), (\"That's Toast Brugge\",), ('Samourai Leuven',), ('Ankara',), ('L’Officina Da Franco & Giacomo',), ('JEAN sur MER Harbor Cafe',), ('La gondola Brugge',), ('La Loggia MEC',), ('Panos Brugge',), ('ORFEO',), ('Fluffy Falafel',), ('Grand Café Industrie',), ('Sforno',), ('Frituur Bossuwé Kortrijk Stationsplein',), (\"O'tagine Antwerp\",), ('Kalypta',), ('Fons Burgers',), ('Nonna stella Gent',), (\"O'Royal Burger\",), ('Takumi Ramen Kitchen',), ('Panos Veldstraat',), ('Happy Food',), ('Pinocchio Gent',), ('Sandwichbar Mina',), ('Asianking Ghent',), ('PIZZERIA ROSSI',), ('Persefon',), ('Eeetwell',), ('Curiosa',), ('Freshmade Berchem',), ('Andromeda',), ('Takumi Japanese Noodlebar',), ('Wagamama Keyserlei',), ('Basic Italian',), ('Nuoc Mam',), ('Hanoi Station - Caméléon',), ('Panos Gent-Zuid',), ('Basic Italian',), ('Nomad Brugge',), ('Into Drink',), ('Pasta la Vista - Brugge',), (\"Romain's Lunch Bar\",), (\"GLORIA's BAKED PASTA\",), ('PURE.',), (\"Romain's Lunch Bar\",), ('Amigo',), ('Croquettenbar Smaeck',), ('Bar Pistolet',), ('5th Gok Gent',), ('Indian Curry House Gent',), ('Carpe diem Leuven',), ('Sangeetha Vegetarian Restaurant Antwerp',), (\"Freddy's Dogs\",), ('Amon Lebanese Restaurant Brugge',), ('Shad Antwerp',), ('Planet Yoghurt - Planet Pasta',), ('Takumi Chicken Ramen Kitchen',), ('Planet Yoghurt & Planet Pasta Oostende',), ('Panos Kapellestraat',), ('Jilles Beer & Burgers',), ('Pitta House',), ('Mamacita',), ('Fritbar Brugge',), ('Dunkin',), ('glocal by Rock-Fort',), ('Restaurant Benny',), ('Thai Café Hasselt',), (\"Mommy's Bastards\",), ('Pizza Hut Oostende',), ('WASBAR Hasselt',), ('Vlaminck’14',), ('Paul',), ('Paul',), ('Frituur Hazegras',), ('Madam Kroket',), ('Taverne Koekoek',), ('Frituur Arré Patat',), ('Panos Ernest Feysplein',), ('Ronin',), ('Le Pain Quotidien Stockel',), (\"Pizza & Pasta Poppy's\",), ('By Sam Oostende',), ('Flavors Oostende',), ('Sushiria Uccle',), (\"Magnum & Ben & Jerry's - Ice Cream Store\",), ('Ball Street NYC ',), ('Mount Gorkha',), ('Belchicken Rooigemlaan',), ('Sultan Al sham',), ('Aahaar Delux',), ('SOEPless and more',), ('CIRCUS',), ('Pitta Corner Oostende',), ('Gulzig',), ('Tonka ',), ('De Mama - Local Deli',), ('Oli’s Friet & Eat',), ('Otomat Leopoldplaats',), ('Boekee Garni',), ('Kaffeenini',), ('BABU',), ('Pies and Fries by Het Rand',), ('Ambiente Wines',), ('New Asia',), ('Le Pain Quotidien ',), ('Vers-Eilandje',), ('Belchicken Hasselt',), ('The Kind Coconut',), ('Restaurant Vincenzo',), ('Andalucia SeaFood',), ('Frituur de Smulpaep',), ('Bombay street',), ('SushiOostende',), ('Pokérrito',), ('Sushi Shop ',), ('Le Pain Quotidien ',), ('New Delhi Traiteur',), ('Restaurant Tarboosh',), ('Hawaiian Poké Bowl - Quartier Bleu',), ('BABETTE - Brugge🎀',), ('The Noodles ',), ('Bubble Waffle Cafe',), ('Tabi Loo',), (\"BARNEY's BURGERS\",), ('K&B- Kitchen & Bar at Courtyard',), ('Chitir Chicken Woluwe Shopping ',), ('Dream sushi & wok',), ('Wasbar',), ('De Blauwe Schuit',), (\"Judy's Lobster Shack\",), ('Art of chocolat bar',), ('Guerrilla Streetfood ',), ('Guerrilla Streetfood',), ('Pizza Talia Concept',), ('Curry Masala',), ('Mamati Couscous',), ('Panos Berchem',), ('Le Pristine',), ('Hawaiian Poké Bowl - Kortrijk',), ('STAMcafé',), ('Bistro Tout Court',), ('Panos Groenplaats',), ('WAKIITA',), ('Juni Thai Foody',), ('Shuk',), ('Malaciorta',), ('Tabù Waterloo',), ('Vega By Wagamama ',), ('Boker Tov Markgrave',), ('Il Cardinale - Vleeshalle',), ('Restaurant Chagall',), ('El Churrasco Argentino',), ('Chin Chin',), ('Nijo x Doubleyou Kitchen',), ('De Klimop',), ('Café des Arts ',), ('Poule & Poulette',), ('Beykoz Chee Kofte Helmet',), ('Da Basilico',), ('Visbar',), ('Buns & Roses',), ('The Vegan Burger Store',), ('Buns & Roses',), ('The Vegan Burger Store',), ('The Vegan Burger Store  - Zuid',), ('The Vegan Burger Store',), ('The Vegan Burger Store - Centrum',), ('Royal Lebanon',), ('Panos Quartier Bleu',), ('Lhasa Tibet kitchen',), ('Sticky Wings ',), ('Sticky Wings - Zuid',), ('Sticky Wings',), ('Arte',), ('Fernand ',), ('Panos Lange Munt',), ('Jilles Beer & Burgers - Centrum',), (\"Winkel Butcher's Store\",), (\"Take Out Butcher's Store\",), ('Neuhaus Hasselt',), ('De Kameleon ',), ('Ons Suzanne',), ('Taste of India',), ('Pizza Factory ',), ('Neuhaus Woluwe Shopping',), ('Neuhaus ',), ('Kinepolis @ Home',), ('CHIPZ',), ('Hacked by De Vegetarische Slager',), (\"GLORIA's BAKED PASTA\",), ('THE SWEET LAB.',), (\"Romain's Lunch Bar\",), ('Martino',), (\"BARNEY's BURGERS\",), ('CASPER Leuven',), ('Mon Dada',), ('Pizza Hut Wemmel',), ('Trattoria Murano',), ('Pizza Gulhan',), ('Midpoint ',), ('Mine Madeh by My Tannour',), ('Thai Time',), ('Sushi Plaza',), ('Buns & Roses - Centrum',), ('Guerrilla Streetfood - Centrum',), ('Sticky Wings - Centrum',), ('Uzume Sushi Overpoort',), ('Dunkin',), ('Neptune',), ('Panos Wilrijk',), ('NachtWinkel NIGHT BIRD',), ('Party Drinks',), ('Panos Station',), ('Panos Jette',), ('‘t Brugs pitahuis',), (\" Mai'a \",), ('Panos Ukkel',), (\"Ribs 'n Beer\",), (\"Ribs 'n Beer Kortrijk\",), ('Grapes & Beanz',), ('Frituur De Bunch',), ('Mash & Pie',), ('Mister Spaghetti',), ('Bavet Mechelen',), (\"Fred's Kitchen\",), ('Vissemie',), ('Holy Healthy',), ('De Kreeftenfabriek',), (\"Mam's burger\",), ('Sushi Land',), ('Foubert - Ice cream & pancakes',), (\"'t Centerken\",), ('Tomato x Doubleyou Kitchen',), ('De Brooddoos',), ('Deluxe Burger Aalst',), ('damas ',), ('Poke By L’Harmony',), ('PITAWAN',), ('Wrapped',), ('O’ROYAL BURGER SCHAERBEEK',), ('Vikings',), ('Pizarro Antwerpen',), ('BeSushi Pokebowl',), ('Soepermarkt Gent',), ('Butcher’s Store Antwerp City Brewery',), ('Le Lion Belge',), ('Panos Anselmo',), ('Favoriete',), ('Bakkerij Aernoudt - Groentenmarkt',), ('Bakkerij Aernoudt - Gent UZ',), ('Bakkerij Aernoudt - Gentbrugge',), ('Les Tartes de Françoise ',), ('Frituur Thelma & Louise',), ('De Kraanvogel',), ('Blend Wines ',), ('NACHTWINKEL NACHTWACHT',), ('Frituur Conny & Franky',), ('Basic Italian Sint-Niklaas',), ('Basic Italian Aalst',), ('PizzaBiologica',), ('Grill land',), ('Planet Yoghurt - Planet Pasta',), ('Balls & Glory Sint-Niklaas',), ('Mosaic',), ('Wims Deli',), ('Wims Deli',), ('Leaf ',), ('Sushi Katelijne',), ('Dunkin',), ('Frituur Kiekenclub',), ('Hell’s Kitchen Antwerp',), ('Bobonne',), ('Monsieur Marcel ',), ('Little Sinksenfoor',), ('Oh My Burger! Antwerp',), ('Crispy Chicken',), ('Sushi gunkan',), ('Ristorante Bianconero',), (\"McDonald's Genk\",), ('Darband “persian cuisine”',), ('THE PEARL ~ Sri Lankan & South Indian Restaurant',), ('Royal India',), ('Chez Duhamel',), ('Taverne Fonske',), (\"Giussepe's\",), ('Mr Poké Berchem',), ('EDO Sushi Antwerp',), ('La grappa',), ('IL Fuoco',), ('Royal Donuts Leuven',), ('Kangei Sushi',), ('Twilight Sushi',), ('Nam Sam Leuven',), ('Asia Bowl',), ('Pizza Borsalino Heule',), ('Bokertov Eilandje',), ('Crèmerie Marie',), ('Irata sushi',), ('Holy Guacamoly Antwerpen',), ('Sushi Love',), ('Lunch Garden',), ('Lunch Garden',), ('Lunch Garden',), ('Lunch Garden',), ('Panos Borgerhout',), ('Poke Bowl Sint Truiden',), ('The Doubleyou Kitchen',), ('Ramen NOBU',), ('Dunkin',), ('Lord of the wedges',), ('Buurtwinkel',), ('Pink Pizza ',), ('Ottoman grillhouse',), ('SANO, No Sugar - Same Taste',), ('Misterwok Nationaalstraat',), ('Tom Yam & Pizzas Stockel',), ('De stoepa',), ('Falafel Top',), ('Gelato Giuliano',), ('Venezia del Nord',), ('Habesha',), ('Pita Piramide Aalst',), ('Donatello',), ('Boëna-To-Go',), ('Ali Kebab ',), ('Moochie Aalst',), ('Hawaiian Poké Bowl - Shopping 1',), ('Kuala lumpur',), ('King Foo',), ('Street Box',), ('Yaki Noodles Bar',), ('Moochie Antwerpen Zuid',), ('THE BAGEL ARMY',), ('De Brasserie',), ('THE BAGEL ARMY',), ('Kings boutique',), ('Panos  ',), ('Quick Genk Shopping 1',), ('Panos Deurne',), ('Parazaar',), ('Vesper ',), ('Pici Centrum ',), ('Himalayan Restaurant OST',), ('Takumi Ramen & Yakisoba',), ('Ali Baba Stalenstraat',), ('Pomfritz',), ('Orange-ini',), ('restaurant de koetse',), ('Pizzeria Da Alfonso',), ('Tota Empanadas 2',), ('Pizza Hut Sint Truiden',), ('San Sushi',), ('Bouff ',), ('Waffle and juice',), ('Frituur Friturist',), ('Den Brandt',), ('Gks express',), ('Azzurro pizza',), ('Wolfgang',), (\"Flooh's Homemade Burgers\",), ('Hey Joo',), ('Fritapapa',), ('Panos Lange Lozana',), ('Bogaz Kebab',), ('Garlic n Greens',), ('Taste Of Asia Sushi',), ('Moana Pokébowls',), (\"Romain's Lunch Bar\",), ('BERTHA',), ('THE BAGEL ARMY',), ('PURE.',), ('Brugge Kebab',), ('The Fontein',), ('PastaSciutta ',), ('Sushi Paradijs',), ('San Marco',), ('Thai Café',), ('The peps Sushi &Bar',), (\"McDonald's SPL\",), ('TIKA',), ('King George Café',), ('Red Chilli',), ('LIFE IS BEAUTIFUL Cocktails',), ('Panos',), ('Sashimi Genk',), ('B’artiste',), ('Bakkerij Excellence',), ('Frituur 2010',), ('Little Valley',), ('Bavet Hasselt',), ('nICE! ',), ('Panos Bruul',), ('Bombastique',), ('Kwat',), ('Cali',), ('Burger Shack by Munchies',), ('Crispy Chicken by Munchies',), ('La Bagatelle de Lou',), ('Cremerie Spermalie',), (\"Rob - The gourmet's Market\",), ('Jb sushi bar & wok',), ('Belchicken - Basilix',), ('Papa Tantuni',), ('Pretzel King',), ('Hawaiian Poké Bowl - Docks Shopping',), ('Mange-tout',), ('Mazal',), ('Better burger',), ('Mia pizza evere BEVR',), ('Oishi sushi',), ('Tallore',), (\"Murphy's Smashed Burgers\",), ('Nightshop at door MEC',), ('Les Délices du Liban',), ('Rosso Forno',), ('TAKÉ',), ('Vine vi comí',), ('TheCandyWorld',), ('Sushi Shisaido',), ('Frituur Bammekes',), ('The Noodle Bar Roeselare',), ('Migoto',), ('The Crispy Crunch',), ('Julien',), ('Love sushi',), ('Sushi Buzz',), ('Plant a Pizza',), ('Friethuis 1958',), ('YUUUM Mechelen',), ('Nani',), ('Pizza Hut Strombeek-Bever',), ('Himalayan Curry House',), ('Place 2 Eat',), ('Carrefour market Ganshoren - Charles Quint',), ('Pigout',), ('YUUUM Arsenaal Shop',), ('YUUUM Bonaparte',), ('Luxalad Antwerp',), ('Yokoso',), ('Pema Sushi',), ('Minori',), ('MOOY Bakery',), (\"Croque 'n Roll\",), ('Soep Supply',), (\"Croque O'Clock\",), (\"Odette's Croquettes\",), ('82*83',), ('Dunkin',), ('Pizza Italia',), ('La Rustica ',), (\"L'Ilot To Go\",), ('One-Stop (Night) Shop',), ('Het Goudhaantje',), (\"Harry's Kaffee\",), ('Poke Bar',), ('KoeKoe',), ('Carrefour Express Hoogstraat',), (\"O'Tacos Aalst\",), ('Maki Maki ',), ('Cuisine Tossins',), ('Carrefour Express Paardenmarkt',), ('Frituur Poater',), ('Mozart Brugge',), ('Mozart Aalst',), ('Maki Maki Uccle',), ('Sakura Sushi & Sashimi Sint Truiden',), ('Wok&u',), ('Frituur Friethuisje',), ('Route 66 Brugge',), (\"In 't Vrije\",), ('Peppermint Park',), ('POP',), (\"Tang's Palace\",), ('Belchicken - Gent Vrijdagmarkt',), ('Wok masala ',), ('Passione Ristorante Pizzeria',), (\"Magnum and Ben & Jerry's Store \",), ('Kaffa - Smashed Burgers',), ('Pattos',), ('Refuel',), ('Mister Spaghetti Roeselare',), ('Sweetbar',), ('Bas Ice Cream',), ('Sweets by Holy Guacamoly',), ('Broodlunch',), ('Yesss Boba',), (\"Daddy's Dim  Sum \",), ('Xiongmao Panda',), ('Brasserie lambik',), ('Casa Cucina',), ('Piano A apulian pizza',), (\"M'adam traiteur\",), ('Bavet',), ('M Steaks  Burgers House',), ('Arax',), ('Philly',), ('Chez Giovanni',), ('Frituur Mc Minute',), ('Babylon ',), ('DAR Za',), ('Burger & Tacos BUC',), ('NACHTWINKEL VISION BD',), ('Aroys Cereal & Bubble Tea',), ('Oats Day Long Hopland',), ('Oats Day Long Zuid',), ('Oats Day Long',), ('Bodebar',), ('Los Pollos ',), ('Strombolino',), ('Kefi Taverna',), ('Mamma Roma ',), ('Munchies ',), ('Saladeria',), ('Agora ',), (\"Fratello's \",), ('WuaKmole',), ('By Strofilia',), ('Barouche II',), ('Barouche I',), ('De Loempiakraam',), ('Atlas Foods',), ('Burger boutique by Bruno & Elise',), ('Hawaiian Poke Bowl Turnhout',), ('Pizza Hut Turnhout',), ('Sushi Corner ',), (\"Papa's Burger\",), ('Snack tommo',), ('Rebelkitchens',), ('Mac&Roni by BAVET',), ('Barouche Leuven',), ('Happy Fries',), ('Bavet Oostende',), ('Star Kebab',), ('Hokkaido sushi LOV',), ('Panos',), ('Belgitude',), ('Avido',), ('Carrefour Express Calvoet',), ('ÖZ AHI',), ('Tavolina',), (\"Henry's Bagel and Juice\",), ('NUB',), ('Carrefour Market Paduwa',), ('De Zus Van Marrit ',), ('Salie',), ('Nieuw Swatow BV',), ('Carrefour Express Kraainem',), ('Indian spice hut (LOV)',), ('Deluxe Burger',), ('Pizza service (BRG)',), ('Brasserie Rekruut',), ('Bayu',), ('Lujain Resto',), ('Currychiwa',), ('Vief Healthy fast food',), ('Viva Lasagna',), ('Pizza Hut Dendermonde',), ('pita pizza waterpoort',), ('CLOWN',), ('Daily Pasta',), ('Yammi Yammi Leuven BV',), ('Dmaiz',), ('PEAS',), ('Agua na boca Antwerpen ',), ('Yokubō - Meal Kits',), ('Snack Délice Halal',), ('Pitaya Gent',), ('Carrefour Express Brusselse',), ('Restaurant Gabriel',), ('Delitraiteur Wezembeek Oppem',), ('Savage Burger Waterloo',), ('Munis restaurant',), ('The Rolling Dogs',), ('Pitaya Melkmarkt',), ('Acqua e Farina ',), ('Belchicken Waterloo',), ('Boba & Bubbles',), ('Fujiyama sushi',), ('pizza Masters (Hasselt)',), ('Carrefour Express Vrijdagmarkt',), ('SMASH.B',), ('Out Fry - Korean Chicken by Taster - Ghent',), ('A Burgers - Dirty Vegan Burgers 🌱 by Taster',), ('Hawaiian Poke Bowl Brugge',), ('HFC Korenmarkt',), ('AMIGO (Oostende)',), ('Carrefour Express Ferrer',), ('Foodhall MarkEat',), ('De Refter',), ('Farmo Street',), ('Bokes',), ('Nara Sushi Dendermonde',), ('sushifuki',), ('Frituur vogelmarkt',), ('Librairie Laeken',), ('Otomat ',), ('@ mor lakker is',), ('Barouche ',), ('EL BARAKA antwerp',), ('Carrefour Express Roeselare',), ('Hawaiian Poké Bowl Oostende',), ('Flying Focaccia',), ('Bunch Antwerpen',), (\"Dash'd Burgers\",), ('Flying Focaccia',), ('The Dough Bar - Edible Cookie Dough',), ('Çigköftem 🌱   Berchem',), ('Carrefour Express Wezembeek Oppem',), ('Omonni Korean Fried Chicken - Antwerpen',), ('Nirvana Kitchen LEUVEN',), ('Corner City',), ('Bubble Land ',), (\"Q'bap Gent\",), ('Max snacks',), (\"The Cousin's Jette\",), ('Carrefour Express Zwijnaarde',), ('In-Dish',), ('Sushi Kinzi',), ('Friterie dailly',), ('Pitaya - Leuven',), ('The Fresh Princess',), ('Asian Corner Gent 2',), ('Bokertov Zuid',), (\" Factory Bun's\",), ('Kalinka MECHELEN',), ('Simon P. (Food Truck)',), ('Red Chillies',), ('IJSTEA - Bubble Tea & Frozen Yogurt',), ('SinSin',), ('Poke Inn',), ('PAMPAM CARNOT',), ('Funky Friet House',), ('Indian Tandoori brugge',), ('Bodhi',), ('Frituur Daily’s',), ('Broodjeszaak PAINDOR',), ('Frituur Marcel',), ('PULPE',), ('Benji’s luxury pitta',), ('Friet Bar',), ('CTR-CHITER CHICKEN HELMET',), ('Chickenworld ',), ('Pizza Italia (Dendermonde)',), ('Picobello',), ('Tush ',), ('The Toast club',), ('Bar Barizzi',), ('Pizzeria Giardino',), ('RUBA healthy & fresh food',), ('RUBA healthy & fresh food',), ('Yokoso - Mechelen',), ('Om Sushi',), ('Carrefour Express Aalst',), ('snack Marrakech',), ('Sandwicherie',), ('STIX ',), ('Frituur Fonteintje',), ('De Burgermeester',), ('Banh Mi Kiosk',), ('Kaffa Markgrave',), ('ketchup GENT',), (\"Dunkin' Steenstraat \",), ('Cigkoftem  🌱  Zuid - Turkish Streetfood',), ('Tadao Poke Bar Waterloo',), ('Rōnin Asian Fusion',), (\"Q8 Berchem (Delhaize Shop 'n Go)\",), ('Everest Gurkha',), ('🎸 Beastie Smash',), ('Quick St Andries',), ('Beiruti Xpress Mechelen',), ('Carrefour Express Mechelen Veemarkt',), ('WOW Salads',), ('Yama Sushi ',), ('Tikka masala house',), (\"Luigi's\",), ('Beni Falafel Antwerp',), ('Kiosk',), ('Humm Streetfood',), ('Panos shop & go Gentbrugge',)]\n"
     ]
    }
   ],
   "source": [
    "query = \"\"\"\n",
    "SELECT\n",
    "name\n",
    "FROM\n",
    "restaurants\n",
    "WHERE\n",
    "rating > 4;\n",
    "\"\"\"\n",
    "cursor.execute(query)\n",
    "results = cursor.fetchall()\n",
    "print(results)\n"
   ]
  },
  {
   "cell_type": "code",
   "execution_count": 75,
   "metadata": {},
   "outputs": [
    {
     "ename": "ModuleNotFoundError",
     "evalue": "No module named 'pandas'",
     "output_type": "error",
     "traceback": [
      "\u001b[1;31m---------------------------------------------------------------------------\u001b[0m",
      "\u001b[1;31mModuleNotFoundError\u001b[0m                       Traceback (most recent call last)",
      "Cell \u001b[1;32mIn[75], line 1\u001b[0m\n\u001b[1;32m----> 1\u001b[0m \u001b[38;5;28;01mimport\u001b[39;00m \u001b[38;5;21;01mpandas\u001b[39;00m \u001b[38;5;28;01mas\u001b[39;00m \u001b[38;5;21;01mpd\u001b[39;00m\n",
      "\u001b[1;31mModuleNotFoundError\u001b[0m: No module named 'pandas'"
     ]
    }
   ],
   "source": [
    "import pandas as pd"
   ]
  },
  {
   "cell_type": "code",
   "execution_count": null,
   "metadata": {},
   "outputs": [
    {
     "ename": "NameError",
     "evalue": "name 'data' is not defined",
     "output_type": "error",
     "traceback": [
      "\u001b[1;31m---------------------------------------------------------------------------\u001b[0m",
      "\u001b[1;31mNameError\u001b[0m                                 Traceback (most recent call last)",
      "Cell \u001b[1;32mIn[70], line 3\u001b[0m\n\u001b[0;32m      1\u001b[0m columns \u001b[38;5;241m=\u001b[39m [\u001b[38;5;124m\"\u001b[39m\u001b[38;5;124mCITY\u001b[39m\u001b[38;5;124m\"\u001b[39m]\n\u001b[1;32m----> 3\u001b[0m \u001b[43mdata\u001b[49m \u001b[38;5;241m+\u001b[39mpd\u001b[38;5;241m.\u001b[39mDataFrame(results,clomuns \u001b[38;5;241m=\u001b[39m columns)\n\u001b[0;32m      5\u001b[0m \u001b[38;5;28mprint\u001b[39m(data\u001b[38;5;241m.\u001b[39mhead(\u001b[38;5;241m5\u001b[39m))\n\u001b[0;32m      7\u001b[0m cursor\u001b[38;5;241m.\u001b[39mclose()\n",
      "\u001b[1;31mNameError\u001b[0m: name 'data' is not defined"
     ]
    }
   ],
   "source": [
    "columns = [\"CITY\"]\n",
    "\n",
    "data = pd.DataFrame(results,columns = columns)\n",
    "\n",
    "print(data.head(5))\n",
    "\n",
    "cursor.close()"
   ]
  },
  {
   "cell_type": "code",
   "execution_count": null,
   "metadata": {},
   "outputs": [],
   "source": []
  },
  {
   "cell_type": "code",
   "execution_count": null,
   "metadata": {},
   "outputs": [],
   "source": []
  },
  {
   "cell_type": "code",
   "execution_count": null,
   "metadata": {},
   "outputs": [],
   "source": []
  },
  {
   "cell_type": "code",
   "execution_count": null,
   "metadata": {},
   "outputs": [],
   "source": []
  },
  {
   "cell_type": "code",
   "execution_count": null,
   "metadata": {},
   "outputs": [],
   "source": []
  },
  {
   "cell_type": "code",
   "execution_count": null,
   "metadata": {},
   "outputs": [],
   "source": []
  },
  {
   "cell_type": "code",
   "execution_count": null,
   "metadata": {},
   "outputs": [],
   "source": []
  },
  {
   "cell_type": "code",
   "execution_count": null,
   "metadata": {},
   "outputs": [],
   "source": []
  },
  {
   "cell_type": "code",
   "execution_count": null,
   "metadata": {},
   "outputs": [],
   "source": []
  },
  {
   "cell_type": "code",
   "execution_count": null,
   "metadata": {},
   "outputs": [],
   "source": []
  },
  {
   "cell_type": "code",
   "execution_count": null,
   "metadata": {},
   "outputs": [],
   "source": []
  },
  {
   "cell_type": "code",
   "execution_count": null,
   "metadata": {},
   "outputs": [],
   "source": []
  },
  {
   "cell_type": "code",
   "execution_count": null,
   "metadata": {},
   "outputs": [],
   "source": []
  },
  {
   "cell_type": "code",
   "execution_count": null,
   "metadata": {},
   "outputs": [],
   "source": []
  },
  {
   "cell_type": "code",
   "execution_count": null,
   "metadata": {},
   "outputs": [],
   "source": []
  },
  {
   "cell_type": "code",
   "execution_count": null,
   "metadata": {},
   "outputs": [],
   "source": []
  }
 ],
 "metadata": {
  "kernelspec": {
   "display_name": "Python 3",
   "language": "python",
   "name": "python3"
  },
  "language_info": {
   "codemirror_mode": {
    "name": "ipython",
    "version": 3
   },
   "file_extension": ".py",
   "mimetype": "text/x-python",
   "name": "python",
   "nbconvert_exporter": "python",
   "pygments_lexer": "ipython3",
   "version": "3.11.9"
  }
 },
 "nbformat": 4,
 "nbformat_minor": 2
}
